{
 "cells": [
  {
   "cell_type": "markdown",
   "id": "40220dd0",
   "metadata": {},
   "source": [
    "# Python Programming \n",
    "# Step 1: Overview of Python Variables and Operaters "
   ]
  },
  {
   "cell_type": "markdown",
   "id": "ac7d0fe7",
   "metadata": {},
   "source": [
    "<img src=\"math_operators.png\">"
   ]
  },
  {
   "cell_type": "markdown",
   "id": "b8a3b607",
   "metadata": {},
   "source": [
    "## Examples"
   ]
  },
  {
   "cell_type": "code",
   "execution_count": 8,
   "id": "7b552811",
   "metadata": {},
   "outputs": [
    {
     "data": {
      "text/plain": [
       "20"
      ]
     },
     "execution_count": 8,
     "metadata": {},
     "output_type": "execute_result"
    }
   ],
   "source": [
    "2 + 3 * 6"
   ]
  },
  {
   "cell_type": "code",
   "execution_count": 9,
   "id": "14f8611c",
   "metadata": {},
   "outputs": [
    {
     "data": {
      "text/plain": [
       "30"
      ]
     },
     "execution_count": 9,
     "metadata": {},
     "output_type": "execute_result"
    }
   ],
   "source": [
    "(2 + 3) * 6"
   ]
  },
  {
   "cell_type": "code",
   "execution_count": 3,
   "id": "a51a4d6e",
   "metadata": {},
   "outputs": [
    {
     "data": {
      "text/plain": [
       "256"
      ]
     },
     "execution_count": 3,
     "metadata": {},
     "output_type": "execute_result"
    }
   ],
   "source": [
    "2 ** 8"
   ]
  },
  {
   "cell_type": "code",
   "execution_count": 6,
   "id": "c2e493ce",
   "metadata": {},
   "outputs": [
    {
     "data": {
      "text/plain": [
       "3"
      ]
     },
     "execution_count": 6,
     "metadata": {},
     "output_type": "execute_result"
    }
   ],
   "source": [
    "23 // 7"
   ]
  },
  {
   "cell_type": "code",
   "execution_count": 5,
   "id": "cd50af11",
   "metadata": {},
   "outputs": [
    {
     "data": {
      "text/plain": [
       "2"
      ]
     },
     "execution_count": 5,
     "metadata": {},
     "output_type": "execute_result"
    }
   ],
   "source": [
    "23 % 7"
   ]
  },
  {
   "cell_type": "code",
   "execution_count": 7,
   "id": "d52c64c0",
   "metadata": {},
   "outputs": [
    {
     "data": {
      "text/plain": [
       "16.0"
      ]
     },
     "execution_count": 7,
     "metadata": {},
     "output_type": "execute_result"
    }
   ],
   "source": [
    "(5 - 1) * ((7 + 1) / (3 - 1))"
   ]
  },
  {
   "cell_type": "markdown",
   "id": "633f13ff",
   "metadata": {},
   "source": [
    "<img src=\"data_types.png\">"
   ]
  },
  {
   "cell_type": "code",
   "execution_count": 14,
   "id": "9c5e1de3",
   "metadata": {},
   "outputs": [
    {
     "data": {
      "text/plain": [
       "0.75"
      ]
     },
     "execution_count": 14,
     "metadata": {},
     "output_type": "execute_result"
    }
   ],
   "source": [
    "--0.5*1.5"
   ]
  },
  {
   "cell_type": "code",
   "execution_count": 16,
   "id": "e09011cf",
   "metadata": {},
   "outputs": [
    {
     "data": {
      "text/plain": [
       "2"
      ]
     },
     "execution_count": 16,
     "metadata": {},
     "output_type": "execute_result"
    }
   ],
   "source": [
    "1 + 1"
   ]
  },
  {
   "cell_type": "code",
   "execution_count": 15,
   "id": "f0437b58",
   "metadata": {},
   "outputs": [
    {
     "data": {
      "text/plain": [
       "'11'"
      ]
     },
     "execution_count": 15,
     "metadata": {},
     "output_type": "execute_result"
    }
   ],
   "source": [
    "'1' + '1'"
   ]
  },
  {
   "cell_type": "code",
   "execution_count": 11,
   "id": "83cdf596",
   "metadata": {
    "scrolled": true
   },
   "outputs": [
    {
     "data": {
      "text/plain": [
       "'Bob'"
      ]
     },
     "execution_count": 11,
     "metadata": {},
     "output_type": "execute_result"
    }
   ],
   "source": [
    "\"Bob\""
   ]
  },
  {
   "cell_type": "code",
   "execution_count": 10,
   "id": "4ea361ea",
   "metadata": {},
   "outputs": [
    {
     "data": {
      "text/plain": [
       "'AliceBob'"
      ]
     },
     "execution_count": 10,
     "metadata": {},
     "output_type": "execute_result"
    }
   ],
   "source": [
    "'Alice' 'Bob'"
   ]
  },
  {
   "cell_type": "code",
   "execution_count": 18,
   "id": "3205a21e",
   "metadata": {},
   "outputs": [
    {
     "data": {
      "text/plain": [
       "'AliceAliceAliceAliceAlice'"
      ]
     },
     "execution_count": 18,
     "metadata": {},
     "output_type": "execute_result"
    }
   ],
   "source": [
    "'Alice' * 5"
   ]
  },
  {
   "cell_type": "markdown",
   "id": "2eb774f8",
   "metadata": {},
   "source": [
    "<img src=\"flow_control.png\">"
   ]
  },
  {
   "cell_type": "code",
   "execution_count": 19,
   "id": "8a818a7e",
   "metadata": {},
   "outputs": [
    {
     "data": {
      "text/plain": [
       "True"
      ]
     },
     "execution_count": 19,
     "metadata": {},
     "output_type": "execute_result"
    }
   ],
   "source": [
    "42 == 42"
   ]
  },
  {
   "cell_type": "code",
   "execution_count": 20,
   "id": "5cb8b625",
   "metadata": {},
   "outputs": [
    {
     "data": {
      "text/plain": [
       "False"
      ]
     },
     "execution_count": 20,
     "metadata": {},
     "output_type": "execute_result"
    }
   ],
   "source": [
    "40 == 42"
   ]
  },
  {
   "cell_type": "code",
   "execution_count": 21,
   "id": "c9345adb",
   "metadata": {},
   "outputs": [
    {
     "data": {
      "text/plain": [
       "True"
      ]
     },
     "execution_count": 21,
     "metadata": {},
     "output_type": "execute_result"
    }
   ],
   "source": [
    "'hello' == 'hello'"
   ]
  },
  {
   "cell_type": "code",
   "execution_count": 22,
   "id": "703cce3b",
   "metadata": {},
   "outputs": [
    {
     "data": {
      "text/plain": [
       "False"
      ]
     },
     "execution_count": 22,
     "metadata": {},
     "output_type": "execute_result"
    }
   ],
   "source": [
    "'hello' == 'Hello'"
   ]
  },
  {
   "cell_type": "code",
   "execution_count": 25,
   "id": "1eb37e96",
   "metadata": {},
   "outputs": [
    {
     "data": {
      "text/plain": [
       "True"
      ]
     },
     "execution_count": 25,
     "metadata": {},
     "output_type": "execute_result"
    }
   ],
   "source": [
    "42 == 42.0"
   ]
  },
  {
   "cell_type": "code",
   "execution_count": 26,
   "id": "6175b1d7",
   "metadata": {},
   "outputs": [
    {
     "data": {
      "text/plain": [
       "False"
      ]
     },
     "execution_count": 26,
     "metadata": {},
     "output_type": "execute_result"
    }
   ],
   "source": [
    "42 == '42'"
   ]
  },
  {
   "cell_type": "markdown",
   "id": "6ac8eaa6",
   "metadata": {},
   "source": [
    "Use the <b>is</b> or <b>is not</b> operators, or use implicit boolean evaluation."
   ]
  },
  {
   "cell_type": "code",
   "execution_count": 27,
   "id": "0bbc83c2",
   "metadata": {},
   "outputs": [
    {
     "data": {
      "text/plain": [
       "True"
      ]
     },
     "execution_count": 27,
     "metadata": {},
     "output_type": "execute_result"
    }
   ],
   "source": [
    "True is True"
   ]
  },
  {
   "cell_type": "code",
   "execution_count": 28,
   "id": "b848da67",
   "metadata": {},
   "outputs": [
    {
     "data": {
      "text/plain": [
       "True"
      ]
     },
     "execution_count": 28,
     "metadata": {},
     "output_type": "execute_result"
    }
   ],
   "source": [
    "True is not False"
   ]
  },
  {
   "cell_type": "markdown",
   "id": "af326414",
   "metadata": {},
   "source": [
    "These statements are all equivalent"
   ]
  },
  {
   "cell_type": "code",
   "execution_count": 39,
   "id": "81010cef",
   "metadata": {},
   "outputs": [],
   "source": [
    "a = 1\n",
    "\n",
    "if a is True:\n",
    "    pass\n",
    "if a is not False:\n",
    "    pass\n",
    "if a:\n",
    "    pass"
   ]
  },
  {
   "cell_type": "markdown",
   "id": "93ade902",
   "metadata": {},
   "source": [
    "and these as well"
   ]
  },
  {
   "cell_type": "code",
   "execution_count": 40,
   "id": "78d913b6",
   "metadata": {},
   "outputs": [],
   "source": [
    "if a is False:\n",
    "    pass\n",
    "if a is not True:\n",
    "    pass\n",
    "if not a:\n",
    "    pass"
   ]
  },
  {
   "cell_type": "markdown",
   "id": "0a642e07",
   "metadata": {},
   "source": [
    "<img src=\"boolean_operators.png\">"
   ]
  },
  {
   "cell_type": "code",
   "execution_count": 41,
   "id": "9a526cba",
   "metadata": {},
   "outputs": [
    {
     "data": {
      "text/plain": [
       "True"
      ]
     },
     "execution_count": 41,
     "metadata": {},
     "output_type": "execute_result"
    }
   ],
   "source": [
    "(4 < 5) and (5 < 6)"
   ]
  },
  {
   "cell_type": "code",
   "execution_count": 42,
   "id": "3a442241",
   "metadata": {},
   "outputs": [
    {
     "data": {
      "text/plain": [
       "False"
      ]
     },
     "execution_count": 42,
     "metadata": {},
     "output_type": "execute_result"
    }
   ],
   "source": [
    "(4 < 5) and (9 < 6)"
   ]
  },
  {
   "cell_type": "code",
   "execution_count": 43,
   "id": "79bfdf87",
   "metadata": {},
   "outputs": [
    {
     "data": {
      "text/plain": [
       "True"
      ]
     },
     "execution_count": 43,
     "metadata": {},
     "output_type": "execute_result"
    }
   ],
   "source": [
    "(1 == 2) or (2 == 2)"
   ]
  },
  {
   "cell_type": "code",
   "execution_count": 44,
   "id": "e7f12a1d",
   "metadata": {},
   "outputs": [
    {
     "data": {
      "text/plain": [
       "True"
      ]
     },
     "execution_count": 44,
     "metadata": {},
     "output_type": "execute_result"
    }
   ],
   "source": [
    "2 + 2 == 4 and not 2 + 2 == 5 and 2 * 2 == 2 + 2"
   ]
  },
  {
   "cell_type": "markdown",
   "id": "1e1b8f5c",
   "metadata": {},
   "source": [
    "## Variables"
   ]
  },
  {
   "cell_type": "markdown",
   "id": "1eebcd59",
   "metadata": {},
   "source": [
    "It can be only one word.    \n",
    "It can use only letters, numbers, and the underscore (_) character.    \n",
    "It can’t begin with a number.    \n",
    "Variable name starting with an underscore (_) are considered as \"unuseful\".    "
   ]
  },
  {
   "cell_type": "code",
   "execution_count": 53,
   "id": "d4b9619f",
   "metadata": {
    "scrolled": true
   },
   "outputs": [
    {
     "data": {
      "text/plain": [
       "'Hello'"
      ]
     },
     "execution_count": 53,
     "metadata": {},
     "output_type": "execute_result"
    }
   ],
   "source": [
    "s1 = 'Hello'\n",
    "s1"
   ]
  },
  {
   "cell_type": "code",
   "execution_count": 54,
   "id": "3c8b5061",
   "metadata": {},
   "outputs": [],
   "source": [
    "s2 = 'hi'"
   ]
  },
  {
   "cell_type": "code",
   "execution_count": 57,
   "id": "26975e52",
   "metadata": {},
   "outputs": [
    {
     "name": "stdout",
     "output_type": "stream",
     "text": [
      "Hello hi\n"
     ]
    }
   ],
   "source": [
    "print(s1,s2)"
   ]
  },
  {
   "cell_type": "markdown",
   "id": "7904ac77",
   "metadata": {},
   "source": [
    "## Comments"
   ]
  },
  {
   "cell_type": "markdown",
   "id": "08ffbb38",
   "metadata": {},
   "source": [
    "One line comments"
   ]
  },
  {
   "cell_type": "code",
   "execution_count": 62,
   "id": "22a2f4f3",
   "metadata": {},
   "outputs": [],
   "source": [
    "# This is a one line comments write anything you want"
   ]
  },
  {
   "cell_type": "markdown",
   "id": "631e958d",
   "metadata": {},
   "source": [
    "Multiple line comments"
   ]
  },
  {
   "cell_type": "code",
   "execution_count": 63,
   "id": "e465b66d",
   "metadata": {},
   "outputs": [],
   "source": [
    "# These are multiple\n",
    "# line comments"
   ]
  },
  {
   "cell_type": "code",
   "execution_count": 64,
   "id": "97571c20",
   "metadata": {},
   "outputs": [
    {
     "data": {
      "text/plain": [
       "'\\nThese \\ntoo \\nare\\nmultiple \\nline \\ncomments\\n'"
      ]
     },
     "execution_count": 64,
     "metadata": {},
     "output_type": "execute_result"
    }
   ],
   "source": [
    "\"\"\"\n",
    "These are \n",
    "also multiple \n",
    "line comments\n",
    "\"\"\"\n",
    "\n",
    "\n",
    "'''\n",
    "These \n",
    "too \n",
    "are\n",
    "multiple \n",
    "line \n",
    "comments\n",
    "'''"
   ]
  },
  {
   "cell_type": "markdown",
   "id": "e40da054",
   "metadata": {},
   "source": [
    "Code with a comment"
   ]
  },
  {
   "cell_type": "code",
   "execution_count": 65,
   "id": "54275f79",
   "metadata": {},
   "outputs": [],
   "source": [
    "x = 1  # you can add a comment here, initial value of x"
   ]
  },
  {
   "cell_type": "markdown",
   "id": "ce895c95",
   "metadata": {},
   "source": [
    "## if else statements"
   ]
  },
  {
   "cell_type": "code",
   "execution_count": 66,
   "id": "30d20bb4",
   "metadata": {},
   "outputs": [],
   "source": [
    "name = 'Alice'"
   ]
  },
  {
   "cell_type": "code",
   "execution_count": 67,
   "id": "0e26fa99",
   "metadata": {},
   "outputs": [
    {
     "name": "stdout",
     "output_type": "stream",
     "text": [
      "Hi, Alice.\n"
     ]
    }
   ],
   "source": [
    "if name == 'Alice':\n",
    "    print('Hi, Alice.')"
   ]
  },
  {
   "cell_type": "code",
   "execution_count": 68,
   "id": "17a6be1b",
   "metadata": {},
   "outputs": [
    {
     "name": "stdout",
     "output_type": "stream",
     "text": [
      "Hello, stranger.\n"
     ]
    }
   ],
   "source": [
    "name = 'Bob'\n",
    "if name == 'Alice':\n",
    "    print('Hi, Alice.')\n",
    "else:\n",
    "    print('Hello, stranger.')"
   ]
  },
  {
   "cell_type": "code",
   "execution_count": 73,
   "id": "c869746d",
   "metadata": {},
   "outputs": [
    {
     "name": "stdout",
     "output_type": "stream",
     "text": [
      "You are not Alice, kiddo.\n"
     ]
    }
   ],
   "source": [
    "name = 'Bob'\n",
    "age = 5\n",
    "\n",
    "if name == 'Alice':\n",
    "    print('Hi, Alice.')\n",
    "elif age < 12:\n",
    "    print('You are not Alice, kiddo.')"
   ]
  },
  {
   "cell_type": "code",
   "execution_count": 79,
   "id": "0e2e28cc",
   "metadata": {},
   "outputs": [
    {
     "name": "stdout",
     "output_type": "stream",
     "text": [
      "You are neither Alice nor a little kid.\n"
     ]
    }
   ],
   "source": [
    "name = 'Bob'\n",
    "age = 30\n",
    "\n",
    "if name == 'Alice':\n",
    "    print('Hi, Alice.')\n",
    "elif age < 12:\n",
    "    print('You are not Alice, kiddo.')\n",
    "else:\n",
    "    print('You are neither Alice nor a little kid.')"
   ]
  },
  {
   "cell_type": "markdown",
   "id": "1635c4ea",
   "metadata": {},
   "source": [
    "## loops"
   ]
  },
  {
   "cell_type": "markdown",
   "id": "154e5c99",
   "metadata": {},
   "source": [
    "while is a keyword for loops"
   ]
  },
  {
   "cell_type": "code",
   "execution_count": 80,
   "id": "89e0b1b0",
   "metadata": {},
   "outputs": [
    {
     "name": "stdout",
     "output_type": "stream",
     "text": [
      "Hello, world.\n",
      "Hello, world.\n",
      "Hello, world.\n",
      "Hello, world.\n",
      "Hello, world.\n"
     ]
    }
   ],
   "source": [
    "spam = 0\n",
    "while spam < 5:\n",
    "    print('Hello, world.')\n",
    "    spam = spam + 1"
   ]
  },
  {
   "cell_type": "markdown",
   "id": "28a531a4",
   "metadata": {},
   "source": [
    "break stops the loop"
   ]
  },
  {
   "cell_type": "code",
   "execution_count": 81,
   "id": "967e88ba",
   "metadata": {},
   "outputs": [
    {
     "name": "stdout",
     "output_type": "stream",
     "text": [
      "Please type your name.\n",
      "Sam\n",
      "Please type your name.\n",
      "Julia\n",
      "Please type your name.\n",
      "Abdallah\n",
      "Please type your name.\n",
      "John Doe\n",
      "Thank you!\n"
     ]
    }
   ],
   "source": [
    "while True:\n",
    "    print('Please type your name.')\n",
    "    name = input()\n",
    "    if name == 'John Doe':\n",
    "        break\n",
    "print('Thank you!')"
   ]
  },
  {
   "cell_type": "markdown",
   "id": "10cc1e87",
   "metadata": {},
   "source": [
    "continue goes back to the start of the loop and keeps going"
   ]
  },
  {
   "cell_type": "code",
   "execution_count": 82,
   "id": "34a60b68",
   "metadata": {},
   "outputs": [
    {
     "name": "stdout",
     "output_type": "stream",
     "text": [
      "Who are you?\n",
      "Joe\n",
      "Hello, Joe. What is the password? (It is a fish.)\n",
      "password\n",
      "Who are you?\n",
      "Kristine\n",
      "Who are you?\n",
      "Adam\n",
      "Who are you?\n",
      "Joe\n",
      "Hello, Joe. What is the password? (It is a fish.)\n",
      "swordfish\n",
      "Access granted.\n"
     ]
    }
   ],
   "source": [
    "while True:\n",
    "    print('Who are you?')\n",
    "    name = input()\n",
    "    if name != 'Joe':\n",
    "        continue\n",
    "    print('Hello, Joe. What is the password? (It is a fish.)')\n",
    "    password = input()\n",
    "    if password == 'swordfish':\n",
    "        break\n",
    "print('Access granted.')"
   ]
  },
  {
   "cell_type": "markdown",
   "id": "0a413d16",
   "metadata": {},
   "source": [
    "for and range"
   ]
  },
  {
   "cell_type": "code",
   "execution_count": 87,
   "id": "01f9030c",
   "metadata": {},
   "outputs": [
    {
     "name": "stdout",
     "output_type": "stream",
     "text": [
      "0\n",
      "1\n",
      "2\n",
      "3\n",
      "4\n",
      "5\n",
      "6\n",
      "7\n",
      "8\n",
      "9\n"
     ]
    }
   ],
   "source": [
    "for i in range(0, 10):\n",
    "    print(i)"
   ]
  },
  {
   "cell_type": "code",
   "execution_count": 88,
   "id": "f378adf6",
   "metadata": {},
   "outputs": [
    {
     "name": "stdout",
     "output_type": "stream",
     "text": [
      "0\n",
      "2\n",
      "4\n",
      "6\n",
      "8\n"
     ]
    }
   ],
   "source": [
    "for i in range(0, 10, 2):\n",
    "    print(i)"
   ]
  },
  {
   "cell_type": "code",
   "execution_count": 89,
   "id": "bdfc93c5",
   "metadata": {},
   "outputs": [
    {
     "name": "stdout",
     "output_type": "stream",
     "text": [
      "5\n",
      "4\n",
      "3\n",
      "2\n",
      "1\n",
      "0\n"
     ]
    }
   ],
   "source": [
    "for i in range(5, -1, -1):\n",
    "    print(i)"
   ]
  },
  {
   "cell_type": "code",
   "execution_count": 101,
   "id": "4e0b44b2",
   "metadata": {},
   "outputs": [
    {
     "name": "stdout",
     "output_type": "stream",
     "text": [
      "My score in the exam was 10\n"
     ]
    }
   ],
   "source": [
    "x = 10\n",
    "print('My score in the exam was {}'.format(x))"
   ]
  },
  {
   "cell_type": "code",
   "execution_count": 91,
   "id": "25d9e3cb",
   "metadata": {},
   "outputs": [
    {
     "name": "stdout",
     "output_type": "stream",
     "text": [
      "My name is\n",
      "Jimmy Five Times (0)\n",
      "Jimmy Five Times (1)\n",
      "Jimmy Five Times (2)\n",
      "Jimmy Five Times (3)\n",
      "Jimmy Five Times (4)\n"
     ]
    }
   ],
   "source": [
    "print('My name is')\n",
    "for i in range(5):\n",
    "    print('Jimmy Five Times ({})'.format(str(i)))"
   ]
  },
  {
   "cell_type": "markdown",
   "id": "61a29e8a",
   "metadata": {},
   "source": [
    "## Importing Modules"
   ]
  },
  {
   "cell_type": "code",
   "execution_count": 146,
   "id": "00b8f3b6",
   "metadata": {},
   "outputs": [],
   "source": [
    "import random\n",
    "import sys, os, math\n",
    "from random import *"
   ]
  },
  {
   "cell_type": "markdown",
   "id": "1f394cc9",
   "metadata": {},
   "source": [
    "# Step 2: Functions"
   ]
  },
  {
   "cell_type": "code",
   "execution_count": 121,
   "id": "103c2b40",
   "metadata": {},
   "outputs": [],
   "source": [
    "def hello(name):\n",
    "    print('Hello {}, how are you?'.format(name))\n",
    "    x = 1\n",
    "    y = 2\n",
    "    print(x+y)"
   ]
  },
  {
   "cell_type": "code",
   "execution_count": 122,
   "id": "3cbd4aec",
   "metadata": {},
   "outputs": [
    {
     "name": "stdout",
     "output_type": "stream",
     "text": [
      "Hello Alice, how are you?\n",
      "3\n"
     ]
    }
   ],
   "source": [
    "hello('Alice')"
   ]
  },
  {
   "cell_type": "code",
   "execution_count": 123,
   "id": "a655dc23",
   "metadata": {},
   "outputs": [
    {
     "name": "stdout",
     "output_type": "stream",
     "text": [
      "Hello Bob, how are you?\n",
      "3\n"
     ]
    }
   ],
   "source": [
    "hello('Bob')"
   ]
  },
  {
   "cell_type": "code",
   "execution_count": 126,
   "id": "5a64f68c",
   "metadata": {},
   "outputs": [
    {
     "name": "stdout",
     "output_type": "stream",
     "text": [
      "HelloWorld\n"
     ]
    }
   ],
   "source": [
    "print('Hello', end='')\n",
    "print('World')"
   ]
  },
  {
   "cell_type": "code",
   "execution_count": 127,
   "id": "cf88c2fc",
   "metadata": {},
   "outputs": [
    {
     "name": "stdout",
     "output_type": "stream",
     "text": [
      "cats dogs mice\n"
     ]
    }
   ],
   "source": [
    "print('cats', 'dogs', 'mice')"
   ]
  },
  {
   "cell_type": "code",
   "execution_count": 130,
   "id": "9fd665fb",
   "metadata": {},
   "outputs": [
    {
     "name": "stdout",
     "output_type": "stream",
     "text": [
      "cats,dogs,mice\n"
     ]
    }
   ],
   "source": [
    "print('cats', 'dogs', 'mice', sep=',')"
   ]
  },
  {
   "cell_type": "markdown",
   "id": "a7aac958",
   "metadata": {},
   "source": [
    "## Return Values"
   ]
  },
  {
   "cell_type": "markdown",
   "id": "e543589e",
   "metadata": {},
   "source": [
    "This is a fortune game where a random number is picked by the computer, then the fortune is returned based on that number"
   ]
  },
  {
   "cell_type": "code",
   "execution_count": 131,
   "id": "b4436931",
   "metadata": {},
   "outputs": [],
   "source": [
    "import random\n",
    "def getAnswer(answerNumber):\n",
    "    if answerNumber == 1:\n",
    "        return 'It is certain'\n",
    "    elif answerNumber == 2:\n",
    "        return 'It is decidedly so'\n",
    "    elif answerNumber == 3:\n",
    "        return 'Yes'\n",
    "    elif answerNumber == 4:\n",
    "        return 'Never give me a 9'\n",
    "    elif answerNumber == 5:\n",
    "        return 'Ask again later'\n",
    "    elif answerNumber == 6:\n",
    "        return 'Concentrate and ask again'\n",
    "    elif answerNumber == 7:\n",
    "        return 'My reply is no'\n",
    "    elif answerNumber == 8:\n",
    "        return 'Outlook not so good'\n",
    "    elif answerNumber == 9:\n",
    "        return 'Very doubtful'"
   ]
  },
  {
   "cell_type": "code",
   "execution_count": 145,
   "id": "5f00708a",
   "metadata": {
    "scrolled": true
   },
   "outputs": [
    {
     "name": "stdout",
     "output_type": "stream",
     "text": [
      "7\n",
      "My reply is no\n"
     ]
    }
   ],
   "source": [
    "r = random.randint(1, 9)\n",
    "while r == 9 or r == 8:\n",
    "    r = random.randint(1, 9)\n",
    "\n",
    "print(r)\n",
    "fortune = getAnswer(r)\n",
    "print(fortune)"
   ]
  },
  {
   "cell_type": "markdown",
   "id": "a1e9f25c",
   "metadata": {},
   "source": [
    "## Local and Global"
   ]
  },
  {
   "cell_type": "code",
   "execution_count": null,
   "id": "5104409d",
   "metadata": {},
   "outputs": [],
   "source": [
    "def spam():\n",
    "    global eggs\n",
    "    eggs = 'boiled'\n",
    "\n",
    "eggs = 'scrambled'\n",
    "spam()\n",
    "print(eggs)"
   ]
  },
  {
   "cell_type": "markdown",
   "id": "359755a9",
   "metadata": {},
   "source": [
    "## Exception Handling "
   ]
  },
  {
   "cell_type": "code",
   "execution_count": null,
   "id": "31e3e399",
   "metadata": {},
   "outputs": [],
   "source": [
    "def divide(divideBy):\n",
    "    try:\n",
    "        return 42 / divideBy\n",
    "    except ZeroDivisionError as e:\n",
    "        print('Error: Invalid argument: {}'.format(e))"
   ]
  },
  {
   "cell_type": "code",
   "execution_count": null,
   "id": "35377e86",
   "metadata": {},
   "outputs": [],
   "source": [
    "print(divide(2))"
   ]
  },
  {
   "cell_type": "code",
   "execution_count": null,
   "id": "7d818485",
   "metadata": {},
   "outputs": [],
   "source": [
    "print(divide(12))"
   ]
  },
  {
   "cell_type": "code",
   "execution_count": null,
   "id": "d270ffcc",
   "metadata": {},
   "outputs": [],
   "source": [
    "print(divide(0))"
   ]
  },
  {
   "cell_type": "code",
   "execution_count": null,
   "id": "e0697159",
   "metadata": {},
   "outputs": [],
   "source": [
    "print(divide(1))"
   ]
  },
  {
   "cell_type": "markdown",
   "id": "58d93f35",
   "metadata": {},
   "source": [
    "# Step 3: Lists and Dictionaries"
   ]
  },
  {
   "cell_type": "code",
   "execution_count": 147,
   "id": "53ab5a3a",
   "metadata": {},
   "outputs": [],
   "source": [
    "l = ['cat', 'bat', 'rat', 'elephant']"
   ]
  },
  {
   "cell_type": "code",
   "execution_count": 148,
   "id": "46490d2d",
   "metadata": {},
   "outputs": [
    {
     "data": {
      "text/plain": [
       "['cat', 'bat', 'rat', 'elephant']"
      ]
     },
     "execution_count": 148,
     "metadata": {},
     "output_type": "execute_result"
    }
   ],
   "source": [
    "l"
   ]
  },
  {
   "cell_type": "code",
   "execution_count": 149,
   "id": "f2c5df02",
   "metadata": {},
   "outputs": [
    {
     "data": {
      "text/plain": [
       "'cat'"
      ]
     },
     "execution_count": 149,
     "metadata": {},
     "output_type": "execute_result"
    }
   ],
   "source": [
    "l[0]"
   ]
  },
  {
   "cell_type": "code",
   "execution_count": 150,
   "id": "711c48f3",
   "metadata": {},
   "outputs": [
    {
     "data": {
      "text/plain": [
       "'rat'"
      ]
     },
     "execution_count": 150,
     "metadata": {},
     "output_type": "execute_result"
    }
   ],
   "source": [
    "l[2]"
   ]
  },
  {
   "cell_type": "code",
   "execution_count": 151,
   "id": "f9272f51",
   "metadata": {},
   "outputs": [
    {
     "data": {
      "text/plain": [
       "'elephant'"
      ]
     },
     "execution_count": 151,
     "metadata": {},
     "output_type": "execute_result"
    }
   ],
   "source": [
    "l[-1]"
   ]
  },
  {
   "cell_type": "code",
   "execution_count": 152,
   "id": "14895c47",
   "metadata": {},
   "outputs": [
    {
     "data": {
      "text/plain": [
       "'rat'"
      ]
     },
     "execution_count": 152,
     "metadata": {},
     "output_type": "execute_result"
    }
   ],
   "source": [
    "l[-2]"
   ]
  },
  {
   "cell_type": "code",
   "execution_count": 153,
   "id": "e5bfc0a7",
   "metadata": {},
   "outputs": [
    {
     "data": {
      "text/plain": [
       "['cat', 'bat']"
      ]
     },
     "execution_count": 153,
     "metadata": {},
     "output_type": "execute_result"
    }
   ],
   "source": [
    "l[:2]"
   ]
  },
  {
   "cell_type": "code",
   "execution_count": 154,
   "id": "261586ba",
   "metadata": {},
   "outputs": [
    {
     "data": {
      "text/plain": [
       "['bat', 'rat']"
      ]
     },
     "execution_count": 154,
     "metadata": {},
     "output_type": "execute_result"
    }
   ],
   "source": [
    "l[1:3]"
   ]
  },
  {
   "cell_type": "code",
   "execution_count": 155,
   "id": "79326650",
   "metadata": {},
   "outputs": [],
   "source": [
    "l.append('dog')"
   ]
  },
  {
   "cell_type": "code",
   "execution_count": 156,
   "id": "6b30d04d",
   "metadata": {},
   "outputs": [
    {
     "data": {
      "text/plain": [
       "['cat', 'bat', 'rat', 'elephant', 'dog']"
      ]
     },
     "execution_count": 156,
     "metadata": {},
     "output_type": "execute_result"
    }
   ],
   "source": [
    "l"
   ]
  },
  {
   "cell_type": "code",
   "execution_count": 157,
   "id": "24822448",
   "metadata": {},
   "outputs": [
    {
     "data": {
      "text/plain": [
       "5"
      ]
     },
     "execution_count": 157,
     "metadata": {},
     "output_type": "execute_result"
    }
   ],
   "source": [
    "len(l)"
   ]
  },
  {
   "cell_type": "code",
   "execution_count": 158,
   "id": "adee81b1",
   "metadata": {},
   "outputs": [],
   "source": [
    "l[0] = 'mouse'"
   ]
  },
  {
   "cell_type": "code",
   "execution_count": 159,
   "id": "bc3ed54a",
   "metadata": {},
   "outputs": [
    {
     "data": {
      "text/plain": [
       "['mouse', 'bat', 'rat', 'elephant', 'dog']"
      ]
     },
     "execution_count": 159,
     "metadata": {},
     "output_type": "execute_result"
    }
   ],
   "source": [
    "l"
   ]
  },
  {
   "cell_type": "code",
   "execution_count": 160,
   "id": "d417b15d",
   "metadata": {},
   "outputs": [
    {
     "data": {
      "text/plain": [
       "[1, 2, 3, 'A', 'B', 'C']"
      ]
     },
     "execution_count": 160,
     "metadata": {},
     "output_type": "execute_result"
    }
   ],
   "source": [
    "[1, 2, 3] + ['A', 'B', 'C']"
   ]
  },
  {
   "cell_type": "code",
   "execution_count": 162,
   "id": "b9d43966",
   "metadata": {},
   "outputs": [
    {
     "data": {
      "text/plain": [
       "['X', 'Y', 'Z', 'X', 'Y', 'Z', 'X', 'Y', 'Z']"
      ]
     },
     "execution_count": 162,
     "metadata": {},
     "output_type": "execute_result"
    }
   ],
   "source": [
    "['X', 'Y', 'Z'] * 3"
   ]
  },
  {
   "cell_type": "code",
   "execution_count": 163,
   "id": "f8c0601d",
   "metadata": {},
   "outputs": [],
   "source": [
    "l = l + [1,2,3]"
   ]
  },
  {
   "cell_type": "code",
   "execution_count": 164,
   "id": "db1f968d",
   "metadata": {},
   "outputs": [
    {
     "data": {
      "text/plain": [
       "['mouse', 'bat', 'rat', 'elephant', 'dog', 1, 2, 3]"
      ]
     },
     "execution_count": 164,
     "metadata": {},
     "output_type": "execute_result"
    }
   ],
   "source": [
    "l"
   ]
  },
  {
   "cell_type": "code",
   "execution_count": 165,
   "id": "39e89605",
   "metadata": {},
   "outputs": [],
   "source": [
    "l = l + [['A','B']]"
   ]
  },
  {
   "cell_type": "code",
   "execution_count": 166,
   "id": "fa7cc380",
   "metadata": {},
   "outputs": [
    {
     "data": {
      "text/plain": [
       "['mouse', 'bat', 'rat', 'elephant', 'dog', 1, 2, 3, ['A', 'B']]"
      ]
     },
     "execution_count": 166,
     "metadata": {},
     "output_type": "execute_result"
    }
   ],
   "source": [
    "l"
   ]
  },
  {
   "cell_type": "code",
   "execution_count": 167,
   "id": "d01ca78e",
   "metadata": {},
   "outputs": [
    {
     "data": {
      "text/plain": [
       "3"
      ]
     },
     "execution_count": 167,
     "metadata": {},
     "output_type": "execute_result"
    }
   ],
   "source": [
    "l.index('elephant')"
   ]
  },
  {
   "cell_type": "code",
   "execution_count": 168,
   "id": "8a56aad4",
   "metadata": {},
   "outputs": [],
   "source": [
    "l.insert(1, 'chicken')"
   ]
  },
  {
   "cell_type": "code",
   "execution_count": 169,
   "id": "601e36c6",
   "metadata": {},
   "outputs": [
    {
     "data": {
      "text/plain": [
       "['mouse', 'chicken', 'bat', 'rat', 'elephant', 'dog', 1, 2, 3, ['A', 'B']]"
      ]
     },
     "execution_count": 169,
     "metadata": {},
     "output_type": "execute_result"
    }
   ],
   "source": [
    "l"
   ]
  },
  {
   "cell_type": "code",
   "execution_count": 170,
   "id": "c2936252",
   "metadata": {},
   "outputs": [],
   "source": [
    "l.remove('bat')"
   ]
  },
  {
   "cell_type": "code",
   "execution_count": 171,
   "id": "59a2c161",
   "metadata": {},
   "outputs": [
    {
     "data": {
      "text/plain": [
       "['mouse', 'chicken', 'rat', 'elephant', 'dog', 1, 2, 3, ['A', 'B']]"
      ]
     },
     "execution_count": 171,
     "metadata": {},
     "output_type": "execute_result"
    }
   ],
   "source": [
    "l"
   ]
  },
  {
   "cell_type": "code",
   "execution_count": 172,
   "id": "1f7a4cc1",
   "metadata": {},
   "outputs": [
    {
     "ename": "TypeError",
     "evalue": "'<' not supported between instances of 'int' and 'str'",
     "output_type": "error",
     "traceback": [
      "\u001b[1;31m---------------------------------------------------------------------------\u001b[0m",
      "\u001b[1;31mTypeError\u001b[0m                                 Traceback (most recent call last)",
      "\u001b[1;32m<ipython-input-172-fb07ac7c73ab>\u001b[0m in \u001b[0;36m<module>\u001b[1;34m\u001b[0m\n\u001b[1;32m----> 1\u001b[1;33m \u001b[0ml\u001b[0m\u001b[1;33m.\u001b[0m\u001b[0msort\u001b[0m\u001b[1;33m(\u001b[0m\u001b[1;33m)\u001b[0m\u001b[1;33m\u001b[0m\u001b[1;33m\u001b[0m\u001b[0m\n\u001b[0m",
      "\u001b[1;31mTypeError\u001b[0m: '<' not supported between instances of 'int' and 'str'"
     ]
    }
   ],
   "source": [
    "l.sort()"
   ]
  },
  {
   "cell_type": "code",
   "execution_count": 173,
   "id": "ae95c61b",
   "metadata": {},
   "outputs": [],
   "source": [
    "l = ['cat', 'bat', 'rat', 'elephant']"
   ]
  },
  {
   "cell_type": "code",
   "execution_count": 174,
   "id": "f29312bd",
   "metadata": {},
   "outputs": [],
   "source": [
    "l.sort()"
   ]
  },
  {
   "cell_type": "code",
   "execution_count": 175,
   "id": "1f12ea2e",
   "metadata": {},
   "outputs": [
    {
     "data": {
      "text/plain": [
       "['bat', 'cat', 'elephant', 'rat']"
      ]
     },
     "execution_count": 175,
     "metadata": {},
     "output_type": "execute_result"
    }
   ],
   "source": [
    "l"
   ]
  },
  {
   "cell_type": "code",
   "execution_count": 176,
   "id": "0ee3dd93",
   "metadata": {},
   "outputs": [],
   "source": [
    "l.sort(reverse=True)"
   ]
  },
  {
   "cell_type": "code",
   "execution_count": 177,
   "id": "92dd2a7e",
   "metadata": {},
   "outputs": [
    {
     "data": {
      "text/plain": [
       "['rat', 'elephant', 'cat', 'bat']"
      ]
     },
     "execution_count": 177,
     "metadata": {},
     "output_type": "execute_result"
    }
   ],
   "source": [
    "l"
   ]
  },
  {
   "cell_type": "code",
   "execution_count": 178,
   "id": "e68db3cd",
   "metadata": {},
   "outputs": [
    {
     "data": {
      "text/plain": [
       "['bat', 'cat', 'elephant', 'rat']"
      ]
     },
     "execution_count": 178,
     "metadata": {},
     "output_type": "execute_result"
    }
   ],
   "source": [
    "sorted(l) # doesn't save"
   ]
  },
  {
   "cell_type": "code",
   "execution_count": 179,
   "id": "40fcf1ff",
   "metadata": {},
   "outputs": [
    {
     "data": {
      "text/plain": [
       "['rat', 'elephant', 'cat', 'bat']"
      ]
     },
     "execution_count": 179,
     "metadata": {},
     "output_type": "execute_result"
    }
   ],
   "source": [
    "l"
   ]
  },
  {
   "cell_type": "markdown",
   "id": "cb63d291",
   "metadata": {},
   "source": [
    "Looping lists"
   ]
  },
  {
   "cell_type": "code",
   "execution_count": 181,
   "id": "4b4946b2",
   "metadata": {},
   "outputs": [
    {
     "name": "stdout",
     "output_type": "stream",
     "text": [
      "rat\n",
      "elephant\n",
      "cat\n",
      "bat\n"
     ]
    }
   ],
   "source": [
    "for animal in l:\n",
    "    print(animal)"
   ]
  },
  {
   "cell_type": "code",
   "execution_count": 182,
   "id": "34ff3420",
   "metadata": {},
   "outputs": [
    {
     "name": "stdout",
     "output_type": "stream",
     "text": [
      "Index 0 in supplies is: pens\n",
      "Index 1 in supplies is: staplers\n",
      "Index 2 in supplies is: flame-throwers\n",
      "Index 3 in supplies is: binders\n"
     ]
    }
   ],
   "source": [
    "supplies = ['pens', 'staplers', 'flame-throwers', 'binders']\n",
    "\n",
    "for i, supply in enumerate(supplies):\n",
    "    print('Index {} in supplies is: {}'.format(str(i), supply))"
   ]
  },
  {
   "cell_type": "code",
   "execution_count": 183,
   "id": "45f5a9f5",
   "metadata": {},
   "outputs": [
    {
     "name": "stdout",
     "output_type": "stream",
     "text": [
      "Pete is 6 years old\n",
      "John is 23 years old\n",
      "Elizabeth is 44 years old\n"
     ]
    }
   ],
   "source": [
    "name = ['Pete', 'John', 'Elizabeth']\n",
    "age = [6, 23, 44]\n",
    "\n",
    "for n, a in zip(name, age):\n",
    "    print('{} is {} years old'.format(n, a))"
   ]
  },
  {
   "cell_type": "code",
   "execution_count": 184,
   "id": "af4eb489",
   "metadata": {},
   "outputs": [
    {
     "data": {
      "text/plain": [
       "True"
      ]
     },
     "execution_count": 184,
     "metadata": {},
     "output_type": "execute_result"
    }
   ],
   "source": [
    "'howdy' in ['hello', 'hi', 'howdy', 'heyas']"
   ]
  },
  {
   "cell_type": "code",
   "execution_count": 185,
   "id": "2721e39a",
   "metadata": {},
   "outputs": [
    {
     "data": {
      "text/plain": [
       "False"
      ]
     },
     "execution_count": 185,
     "metadata": {},
     "output_type": "execute_result"
    }
   ],
   "source": [
    "'cat' in ['hello', 'hi', 'howdy', 'heyas']"
   ]
  },
  {
   "cell_type": "markdown",
   "id": "8243b89e",
   "metadata": {},
   "source": [
    "Assignment tricks"
   ]
  },
  {
   "cell_type": "code",
   "execution_count": 186,
   "id": "c2ac6e27",
   "metadata": {},
   "outputs": [],
   "source": [
    "cat = ['fat', 'orange', 'loud']\n",
    "# you don't have to write \n",
    "# size = cat[0]\n",
    "# color = cat[1]\n",
    "# disposition = cat[2]\n",
    "size, color, disposition = cat"
   ]
  },
  {
   "cell_type": "code",
   "execution_count": 187,
   "id": "eef47b1a",
   "metadata": {},
   "outputs": [
    {
     "data": {
      "text/plain": [
       "'fat'"
      ]
     },
     "execution_count": 187,
     "metadata": {},
     "output_type": "execute_result"
    }
   ],
   "source": [
    "size"
   ]
  },
  {
   "cell_type": "code",
   "execution_count": 188,
   "id": "1d0160f4",
   "metadata": {},
   "outputs": [
    {
     "data": {
      "text/plain": [
       "'orange'"
      ]
     },
     "execution_count": 188,
     "metadata": {},
     "output_type": "execute_result"
    }
   ],
   "source": [
    "color"
   ]
  },
  {
   "cell_type": "code",
   "execution_count": 189,
   "id": "648ab36c",
   "metadata": {},
   "outputs": [
    {
     "data": {
      "text/plain": [
       "'loud'"
      ]
     },
     "execution_count": 189,
     "metadata": {},
     "output_type": "execute_result"
    }
   ],
   "source": [
    "disposition"
   ]
  },
  {
   "cell_type": "markdown",
   "id": "4f68cf51",
   "metadata": {},
   "source": [
    "## Tuples"
   ]
  },
  {
   "cell_type": "code",
   "execution_count": 190,
   "id": "8f236658",
   "metadata": {},
   "outputs": [],
   "source": [
    "eggs = ('hello', 42, 0.5)"
   ]
  },
  {
   "cell_type": "code",
   "execution_count": 191,
   "id": "ddb3084d",
   "metadata": {},
   "outputs": [
    {
     "data": {
      "text/plain": [
       "'hello'"
      ]
     },
     "execution_count": 191,
     "metadata": {},
     "output_type": "execute_result"
    }
   ],
   "source": [
    "eggs[0]"
   ]
  },
  {
   "cell_type": "code",
   "execution_count": 192,
   "id": "b394902d",
   "metadata": {},
   "outputs": [
    {
     "data": {
      "text/plain": [
       "(42, 0.5)"
      ]
     },
     "execution_count": 192,
     "metadata": {},
     "output_type": "execute_result"
    }
   ],
   "source": [
    "eggs[1:3]"
   ]
  },
  {
   "cell_type": "code",
   "execution_count": 193,
   "id": "9f94a6e3",
   "metadata": {},
   "outputs": [
    {
     "ename": "TypeError",
     "evalue": "'tuple' object does not support item assignment",
     "output_type": "error",
     "traceback": [
      "\u001b[1;31m---------------------------------------------------------------------------\u001b[0m",
      "\u001b[1;31mTypeError\u001b[0m                                 Traceback (most recent call last)",
      "\u001b[1;32m<ipython-input-193-7765037b1099>\u001b[0m in \u001b[0;36m<module>\u001b[1;34m\u001b[0m\n\u001b[1;32m----> 1\u001b[1;33m \u001b[0meggs\u001b[0m\u001b[1;33m[\u001b[0m\u001b[1;36m0\u001b[0m\u001b[1;33m]\u001b[0m \u001b[1;33m=\u001b[0m \u001b[1;34m'hi'\u001b[0m\u001b[1;33m\u001b[0m\u001b[1;33m\u001b[0m\u001b[0m\n\u001b[0m",
      "\u001b[1;31mTypeError\u001b[0m: 'tuple' object does not support item assignment"
     ]
    }
   ],
   "source": [
    "eggs[0] = 'hi'"
   ]
  },
  {
   "cell_type": "markdown",
   "id": "f000186f",
   "metadata": {},
   "source": [
    " Why use them?    \n",
    " Tuples are more memory efficient "
   ]
  },
  {
   "cell_type": "code",
   "execution_count": 194,
   "id": "ff580727",
   "metadata": {},
   "outputs": [
    {
     "data": {
      "text/plain": [
       "('cat', 'dog', 5)"
      ]
     },
     "execution_count": 194,
     "metadata": {},
     "output_type": "execute_result"
    }
   ],
   "source": [
    "tuple(['cat', 'dog', 5])"
   ]
  },
  {
   "cell_type": "code",
   "execution_count": 195,
   "id": "c46e249d",
   "metadata": {},
   "outputs": [
    {
     "data": {
      "text/plain": [
       "['cat', 'dog', 5]"
      ]
     },
     "execution_count": 195,
     "metadata": {},
     "output_type": "execute_result"
    }
   ],
   "source": [
    "list(('cat', 'dog', 5))"
   ]
  },
  {
   "cell_type": "code",
   "execution_count": 196,
   "id": "f82f220a",
   "metadata": {},
   "outputs": [
    {
     "data": {
      "text/plain": [
       "['h', 'e', 'l', 'l', 'o']"
      ]
     },
     "execution_count": 196,
     "metadata": {},
     "output_type": "execute_result"
    }
   ],
   "source": [
    "list('hello')"
   ]
  },
  {
   "cell_type": "markdown",
   "id": "6a90f06f",
   "metadata": {},
   "source": [
    "## Dictionaries"
   ]
  },
  {
   "cell_type": "code",
   "execution_count": 197,
   "id": "9412a369",
   "metadata": {},
   "outputs": [],
   "source": [
    "myCat = {'size': 'fat', 'color': 'gray', 'disposition': 'loud'}"
   ]
  },
  {
   "cell_type": "code",
   "execution_count": 198,
   "id": "2493e4e3",
   "metadata": {},
   "outputs": [
    {
     "data": {
      "text/plain": [
       "{'size': 'fat', 'color': 'gray', 'disposition': 'loud'}"
      ]
     },
     "execution_count": 198,
     "metadata": {},
     "output_type": "execute_result"
    }
   ],
   "source": [
    "myCat"
   ]
  },
  {
   "cell_type": "code",
   "execution_count": 200,
   "id": "10e430f2",
   "metadata": {},
   "outputs": [
    {
     "data": {
      "text/plain": [
       "'loud'"
      ]
     },
     "execution_count": 200,
     "metadata": {},
     "output_type": "execute_result"
    }
   ],
   "source": [
    "myCat['disposition']"
   ]
  },
  {
   "cell_type": "code",
   "execution_count": 201,
   "id": "29998204",
   "metadata": {},
   "outputs": [],
   "source": [
    "myCat['name'] = 'Salem'"
   ]
  },
  {
   "cell_type": "code",
   "execution_count": 202,
   "id": "aadd3382",
   "metadata": {},
   "outputs": [
    {
     "data": {
      "text/plain": [
       "{'size': 'fat', 'color': 'gray', 'disposition': 'loud', 'name': 'Salem'}"
      ]
     },
     "execution_count": 202,
     "metadata": {},
     "output_type": "execute_result"
    }
   ],
   "source": [
    "myCat"
   ]
  },
  {
   "cell_type": "code",
   "execution_count": 203,
   "id": "f869294c",
   "metadata": {},
   "outputs": [
    {
     "name": "stdout",
     "output_type": "stream",
     "text": [
      "red\n",
      "42\n"
     ]
    }
   ],
   "source": [
    "hashmap = {'color': 'red', 'age': 42}\n",
    "for v in hashmap.values():\n",
    "    print(v)"
   ]
  },
  {
   "cell_type": "code",
   "execution_count": 204,
   "id": "284ab5a1",
   "metadata": {},
   "outputs": [
    {
     "data": {
      "text/plain": [
       "dict_values(['red', 42])"
      ]
     },
     "execution_count": 204,
     "metadata": {},
     "output_type": "execute_result"
    }
   ],
   "source": [
    "hashmap.values()"
   ]
  },
  {
   "cell_type": "code",
   "execution_count": 205,
   "id": "f4b9e20a",
   "metadata": {},
   "outputs": [
    {
     "data": {
      "text/plain": [
       "['red', 42]"
      ]
     },
     "execution_count": 205,
     "metadata": {},
     "output_type": "execute_result"
    }
   ],
   "source": [
    "list(hashmap.values())"
   ]
  },
  {
   "cell_type": "code",
   "execution_count": 206,
   "id": "b89fc8d4",
   "metadata": {},
   "outputs": [
    {
     "name": "stdout",
     "output_type": "stream",
     "text": [
      "color\n",
      "age\n"
     ]
    }
   ],
   "source": [
    "for k in hashmap.keys():\n",
    "    print(k)"
   ]
  },
  {
   "cell_type": "code",
   "execution_count": 207,
   "id": "c5cf7b81",
   "metadata": {
    "scrolled": true
   },
   "outputs": [
    {
     "name": "stdout",
     "output_type": "stream",
     "text": [
      "('color', 'red')\n",
      "('age', 42)\n"
     ]
    }
   ],
   "source": [
    " for i in hashmap.items():\n",
    "        print(i)"
   ]
  },
  {
   "cell_type": "code",
   "execution_count": 208,
   "id": "6b44c4ae",
   "metadata": {},
   "outputs": [
    {
     "name": "stdout",
     "output_type": "stream",
     "text": [
      "Key: color Value: red\n",
      "Key: age Value: 42\n"
     ]
    }
   ],
   "source": [
    "for k, v in hashmap.items():\n",
    "    print('Key: {} Value: {}'.format(k, str(v)))"
   ]
  },
  {
   "cell_type": "code",
   "execution_count": 209,
   "id": "1841086a",
   "metadata": {},
   "outputs": [
    {
     "data": {
      "text/plain": [
       "False"
      ]
     },
     "execution_count": 209,
     "metadata": {},
     "output_type": "execute_result"
    }
   ],
   "source": [
    "'name' in hashmap.keys()"
   ]
  },
  {
   "cell_type": "code",
   "execution_count": 210,
   "id": "e679eb00",
   "metadata": {},
   "outputs": [
    {
     "data": {
      "text/plain": [
       "True"
      ]
     },
     "execution_count": 210,
     "metadata": {},
     "output_type": "execute_result"
    }
   ],
   "source": [
    "'red' in hashmap.values()"
   ]
  },
  {
   "cell_type": "code",
   "execution_count": 211,
   "id": "681649d5",
   "metadata": {},
   "outputs": [
    {
     "data": {
      "text/plain": [
       "'Next year I will be 42 years old.'"
      ]
     },
     "execution_count": 211,
     "metadata": {},
     "output_type": "execute_result"
    }
   ],
   "source": [
    "'Next year I will be {} years old.'.format(str(hashmap.get('age', 0)))"
   ]
  },
  {
   "cell_type": "markdown",
   "id": "6ba98b7b",
   "metadata": {},
   "source": [
    "Merge dictionaries"
   ]
  },
  {
   "cell_type": "code",
   "execution_count": 212,
   "id": "8ed5915e",
   "metadata": {},
   "outputs": [
    {
     "data": {
      "text/plain": [
       "{'a': 1, 'b': 3, 'c': 4}"
      ]
     },
     "execution_count": 212,
     "metadata": {},
     "output_type": "execute_result"
    }
   ],
   "source": [
    "x = {'a': 1, 'b': 2}\n",
    "y = {'b': 3, 'c': 4}\n",
    "z = {**x, **y}\n",
    "z"
   ]
  },
  {
   "cell_type": "markdown",
   "id": "e23ec691",
   "metadata": {},
   "source": [
    "Sets"
   ]
  },
  {
   "cell_type": "code",
   "execution_count": 213,
   "id": "12bb14d4",
   "metadata": {},
   "outputs": [
    {
     "data": {
      "text/plain": [
       "{1, 2, 3}"
      ]
     },
     "execution_count": 213,
     "metadata": {},
     "output_type": "execute_result"
    }
   ],
   "source": [
    "s = {1, 2, 3}\n",
    "s = set([1, 2, 3])\n",
    "s"
   ]
  },
  {
   "cell_type": "code",
   "execution_count": 214,
   "id": "eba02984",
   "metadata": {},
   "outputs": [
    {
     "data": {
      "text/plain": [
       "{1, 2, 3, 4}"
      ]
     },
     "execution_count": 214,
     "metadata": {},
     "output_type": "execute_result"
    }
   ],
   "source": [
    "s = {1, 2, 3, 2, 3, 4}\n",
    "s"
   ]
  },
  {
   "cell_type": "code",
   "execution_count": 219,
   "id": "6f39907d",
   "metadata": {},
   "outputs": [
    {
     "data": {
      "text/plain": [
       "{1, 2, 3, 4, 10}"
      ]
     },
     "execution_count": 219,
     "metadata": {},
     "output_type": "execute_result"
    }
   ],
   "source": [
    "s.add(10)\n",
    "s"
   ]
  },
  {
   "cell_type": "code",
   "execution_count": 225,
   "id": "c1a4385e",
   "metadata": {},
   "outputs": [
    {
     "data": {
      "text/plain": [
       "{1, 2, 3, 4, 5, 6, 10}"
      ]
     },
     "execution_count": 225,
     "metadata": {},
     "output_type": "execute_result"
    }
   ],
   "source": [
    "s.update([2, 3, 4, 5, 6])\n",
    "s"
   ]
  },
  {
   "cell_type": "code",
   "execution_count": 226,
   "id": "aebd2e80",
   "metadata": {},
   "outputs": [
    {
     "data": {
      "text/plain": [
       "{1, 2, 4, 5, 6, 10}"
      ]
     },
     "execution_count": 226,
     "metadata": {},
     "output_type": "execute_result"
    }
   ],
   "source": [
    "s.remove(3)\n",
    "s"
   ]
  },
  {
   "cell_type": "markdown",
   "id": "aaf2abbf",
   "metadata": {},
   "source": [
    "discard will not raise errors if the set element is not found"
   ]
  },
  {
   "cell_type": "code",
   "execution_count": 224,
   "id": "e5d7fad3",
   "metadata": {},
   "outputs": [
    {
     "data": {
      "text/plain": [
       "{1, 2, 4, 5, 6, 10}"
      ]
     },
     "execution_count": 224,
     "metadata": {},
     "output_type": "execute_result"
    }
   ],
   "source": [
    "s.discard(3)\n",
    "s"
   ]
  },
  {
   "cell_type": "code",
   "execution_count": 227,
   "id": "83d1ba38",
   "metadata": {
    "scrolled": true
   },
   "outputs": [
    {
     "data": {
      "text/plain": [
       "{1, 2, 3, 4, 5}"
      ]
     },
     "execution_count": 227,
     "metadata": {},
     "output_type": "execute_result"
    }
   ],
   "source": [
    "s1 = {1, 2, 3}\n",
    "s2 = {3, 4, 5}\n",
    "s1.union(s2)"
   ]
  },
  {
   "cell_type": "code",
   "execution_count": 228,
   "id": "1ddc5f35",
   "metadata": {},
   "outputs": [
    {
     "data": {
      "text/plain": [
       "{3}"
      ]
     },
     "execution_count": 228,
     "metadata": {},
     "output_type": "execute_result"
    }
   ],
   "source": [
    "s1 = {1, 2, 3}\n",
    "s2 = {2, 3, 4}\n",
    "s3 = {3, 4, 5}\n",
    "s1.intersection(s2, s3)"
   ]
  },
  {
   "cell_type": "code",
   "execution_count": 229,
   "id": "a8120273",
   "metadata": {},
   "outputs": [
    {
     "data": {
      "text/plain": [
       "{1, 4}"
      ]
     },
     "execution_count": 229,
     "metadata": {},
     "output_type": "execute_result"
    }
   ],
   "source": [
    "s1.symmetric_difference(s2) "
   ]
  },
  {
   "cell_type": "markdown",
   "id": "bfac238f",
   "metadata": {},
   "source": [
    "## Itertools"
   ]
  },
  {
   "cell_type": "code",
   "execution_count": null,
   "id": "67038628",
   "metadata": {},
   "outputs": [],
   "source": [
    "from itertools import *"
   ]
  },
  {
   "cell_type": "markdown",
   "id": "f2438e70",
   "metadata": {},
   "source": [
    "Combinations"
   ]
  },
  {
   "cell_type": "code",
   "execution_count": null,
   "id": "103a2bd1",
   "metadata": {},
   "outputs": [],
   "source": [
    "shapes = ['circle', 'triangle', 'square',]\n",
    "result = combinations(shapes, 2)\n",
    "for each in result:\n",
    "    print(each)"
   ]
  },
  {
   "cell_type": "code",
   "execution_count": null,
   "id": "77e82404",
   "metadata": {},
   "outputs": [],
   "source": [
    "shapes = ['circle', 'triangle', 'square',]\n",
    "result = combinations_with_replacement(shapes, 2)\n",
    "for each in result:\n",
    "    print(each)"
   ]
  },
  {
   "cell_type": "markdown",
   "id": "57829997",
   "metadata": {},
   "source": [
    "Chain"
   ]
  },
  {
   "cell_type": "code",
   "execution_count": null,
   "id": "2d25b642",
   "metadata": {},
   "outputs": [],
   "source": [
    "colors = ['red', 'orange', 'yellow', 'green', 'blue']\n",
    "shapes = ['circle', 'triangle', 'square', 'pentagon']\n",
    "result = chain(colors, shapes)\n",
    "for each in result:\n",
    "    print(each)"
   ]
  },
  {
   "cell_type": "markdown",
   "id": "5210fc7a",
   "metadata": {},
   "source": [
    "Compress"
   ]
  },
  {
   "cell_type": "code",
   "execution_count": null,
   "id": "4fe154ef",
   "metadata": {},
   "outputs": [],
   "source": [
    "shapes = ['circle', 'triangle', 'square', 'pentagon']\n",
    "selections = [True, False, True, False]\n",
    "result = compress(shapes, selections)\n",
    "for each in result:\n",
    "    print(each)"
   ]
  },
  {
   "cell_type": "markdown",
   "id": "803ec2d6",
   "metadata": {},
   "source": [
    "## Comprehensions"
   ]
  },
  {
   "cell_type": "code",
   "execution_count": null,
   "id": "51006a07",
   "metadata": {},
   "outputs": [],
   "source": [
    "a = [1, 3, 5, 7, 9, 11]\n",
    "\n",
    "[i - 1 for i in a]"
   ]
  },
  {
   "cell_type": "code",
   "execution_count": null,
   "id": "a7de6579",
   "metadata": {},
   "outputs": [],
   "source": [
    "b = {\"abc\", \"def\"}\n",
    "    \n",
    "{s.upper() for s in b}"
   ]
  },
  {
   "cell_type": "code",
   "execution_count": null,
   "id": "70b6481f",
   "metadata": {},
   "outputs": [],
   "source": [
    "c = {'name': 'Pooka', 'age': 5}\n",
    "{v: k for k, v in c.items()}"
   ]
  },
  {
   "cell_type": "code",
   "execution_count": null,
   "id": "d38c6607",
   "metadata": {},
   "outputs": [],
   "source": [
    "c = {'name': 'Pooka', 'first_name': 'Oooka'}\n",
    "[\"{}:{}\".format(k.upper(), v.upper()) for k, v in c.items()]"
   ]
  },
  {
   "cell_type": "markdown",
   "id": "9e2e7d81",
   "metadata": {},
   "source": [
    "# Step 4: Problems"
   ]
  },
  {
   "cell_type": "markdown",
   "id": "bb7df850",
   "metadata": {},
   "source": [
    "###  Running Sum of 1d Array"
   ]
  },
  {
   "cell_type": "markdown",
   "id": "ed27ba23",
   "metadata": {},
   "source": [
    "Given an array nums. We define a running sum of an array as runningSum[i] = sum(nums[0]…nums[i]).\n",
    "\n",
    "Return the running sum of nums."
   ]
  },
  {
   "cell_type": "code",
   "execution_count": null,
   "id": "c045cb15",
   "metadata": {},
   "outputs": [],
   "source": [
    "def runningSum(nums):\n",
    "    "
   ]
  },
  {
   "cell_type": "code",
   "execution_count": null,
   "id": "7efe5451",
   "metadata": {},
   "outputs": [],
   "source": [
    "runningSum([1,2,3,4])"
   ]
  },
  {
   "cell_type": "code",
   "execution_count": null,
   "id": "426d1c31",
   "metadata": {},
   "outputs": [],
   "source": [
    "runningSum([1])"
   ]
  },
  {
   "cell_type": "code",
   "execution_count": null,
   "id": "66178dc4",
   "metadata": {},
   "outputs": [],
   "source": [
    "runningSum([1,5])"
   ]
  },
  {
   "cell_type": "code",
   "execution_count": null,
   "id": "a6b118f1",
   "metadata": {
    "scrolled": true
   },
   "outputs": [],
   "source": [
    "runningSum([1,1,1,1,1,1,1])"
   ]
  },
  {
   "cell_type": "code",
   "execution_count": null,
   "id": "ea905f59",
   "metadata": {
    "scrolled": true
   },
   "outputs": [],
   "source": [
    "runningSum([1,2,3,4,5,6,7])"
   ]
  },
  {
   "cell_type": "code",
   "execution_count": null,
   "id": "60afb8c7",
   "metadata": {},
   "outputs": [],
   "source": [
    "def runningSum(nums):\n",
    "    i = nums[0]\n",
    "    result = []\n",
    "    \n",
    "    for j in nums[1:]:\n",
    "        result.append(i)\n",
    "        i = i+j\n",
    "    result.append(i)\n",
    "    return result"
   ]
  },
  {
   "cell_type": "markdown",
   "id": "ba170e13",
   "metadata": {},
   "source": [
    "###  Two Sum"
   ]
  },
  {
   "cell_type": "markdown",
   "id": "8ed276c2",
   "metadata": {},
   "source": [
    "Given an array of integers nums and an integer target, return indices of the two numbers such that they add up to target.\n",
    "\n",
    "You may assume that each input would have exactly one solution, and you may not use the same element twice.\n",
    "\n",
    "You can return the answer in any order."
   ]
  },
  {
   "cell_type": "code",
   "execution_count": null,
   "id": "2f1a3c31",
   "metadata": {},
   "outputs": [],
   "source": [
    "def twoSum(nums,target):\n",
    "    "
   ]
  },
  {
   "cell_type": "code",
   "execution_count": null,
   "id": "e3d7e625",
   "metadata": {},
   "outputs": [],
   "source": [
    "twoSum([1,2,3,10,11,21,15],17)"
   ]
  },
  {
   "cell_type": "code",
   "execution_count": null,
   "id": "e62d9fbb",
   "metadata": {},
   "outputs": [],
   "source": [
    "twoSum([4,2,11,8,1,25],13)"
   ]
  },
  {
   "cell_type": "code",
   "execution_count": null,
   "id": "43e4edca",
   "metadata": {},
   "outputs": [],
   "source": [
    "twoSum([35,127,2,11,-1,-5],122)"
   ]
  },
  {
   "cell_type": "code",
   "execution_count": null,
   "id": "d6abf3b4",
   "metadata": {},
   "outputs": [],
   "source": [
    "def twoSum(nums,target):\n",
    "    hashmap = {}\n",
    "    for index,number in enumerate(nums):\n",
    "        if number not in hashmap:\n",
    "            hashmap[number] = index\n",
    "        elif 2 * number == target:\n",
    "            return [hashmap[number],index]\n",
    "        if target-number in hashmap and hashmap[number] != hashmap[target-number]:\n",
    "            return [hashmap[number],hashmap[target-number]]\n",
    "        else:\n",
    "            continue\n",
    "    return []"
   ]
  },
  {
   "cell_type": "code",
   "execution_count": null,
   "id": "3dd53851",
   "metadata": {},
   "outputs": [],
   "source": []
  }
 ],
 "metadata": {
  "kernelspec": {
   "display_name": "Python 3",
   "language": "python",
   "name": "python3"
  },
  "language_info": {
   "codemirror_mode": {
    "name": "ipython",
    "version": 3
   },
   "file_extension": ".py",
   "mimetype": "text/x-python",
   "name": "python",
   "nbconvert_exporter": "python",
   "pygments_lexer": "ipython3",
   "version": "3.8.8"
  }
 },
 "nbformat": 4,
 "nbformat_minor": 5
}
